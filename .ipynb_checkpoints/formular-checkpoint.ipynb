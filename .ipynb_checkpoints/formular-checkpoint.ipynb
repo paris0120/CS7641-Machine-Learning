{
 "cells": [
  {
   "cell_type": "markdown",
   "metadata": {},
   "source": [
    "1. regression, $Y=wX$ , $w = (X^TX)^{-1}X^TY$\n",
    "1. $\\Delta w_i=\\gamma(y - \\hat y)x_i$ perceptron: guarantee\n",
    "1. $\\Delta w_i=\\gamma(y - a)x_i$ gradient descent: calculus\n",
    "1. sigmoid: 1/(1+e^-a)\n",
    "1. knn: $max -> W(a)=\\sum a - 1/2 \\sum a_ia_jy_iy_jx_i^Tx_j$, $w = \\sum a_iy_ix_i$ \n",
    "1. $ln|H|-\\epsilon m \\leq ln\\delta, m>=1/\\epsilon(ln|H|+ ln(1/\\delta))$: polynomial in one over epsilon, 1/delta and size of H\n",
    "1. 1. $M \\ge {1\\over \\epsilon} (8 VC(H) log_2 {13\\over \\epsilon} + 4 log_2 {2 \\over \\delta})$\n",
    "1. $\\prod 1/\\sqrt{2\\pi \\sigma^2} e^{-1/2(d_i-h(x))^2/\\sigma^2}$\n",
    "1. joint entropy $H(X,Y) = -\\sum P(X,Y) log P(X,Y)$\n",
    "1. Conditional entropy $H(Y|X) = -\\sum P(X,Y) log P(Y|X)$\n",
    "1. Mutual Information I(X,Y) = H(Y) - H(X|Y)\n",
    "1. Entropy formular    $ H(S) = -\\sum P(S) * log P(S) $"
   ]
  },
  {
   "cell_type": "code",
   "execution_count": null,
   "metadata": {},
   "outputs": [],
   "source": []
  }
 ],
 "metadata": {
  "kernelspec": {
   "display_name": "Python 3",
   "language": "python",
   "name": "python3"
  },
  "language_info": {
   "codemirror_mode": {
    "name": "ipython",
    "version": 3
   },
   "file_extension": ".py",
   "mimetype": "text/x-python",
   "name": "python",
   "nbconvert_exporter": "python",
   "pygments_lexer": "ipython3",
   "version": "3.8.3"
  }
 },
 "nbformat": 4,
 "nbformat_minor": 5
}
