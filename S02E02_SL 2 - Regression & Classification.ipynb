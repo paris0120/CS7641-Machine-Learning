{
 "cells": [
  {
   "cell_type": "markdown",
   "metadata": {},
   "source": [
    "$Y=wX$\n",
    "\n",
    "\n",
    "$w = (X^TX)^{-1}X^TY$"
   ]
  },
  {
   "cell_type": "markdown",
   "metadata": {},
   "source": [
    "### Errors\n",
    "Training data has errors not modeling f, but f+e\n",
    "\n",
    "Where do errors come from\n",
    "1. sensor error\n",
    "1. maliciously - being given bad data\n",
    "1. transcription error\n",
    "1. unmodeled influences"
   ]
  },
  {
   "cell_type": "markdown",
   "metadata": {},
   "source": [
    "### Cross validation\n",
    "1. train vs test\n",
    "1. test set should represent the future\n",
    "1. data should be iid (fundamental assumption)\n",
    "1. use a model that's complex enough to fit the data without causing problems on the test set\n",
    "1. steps\n",
    "    1. have folds on the dataset\n",
    "    1. pick a model\n",
    "    1. traing on some folds and test on each fold\n",
    "    1. average the error from the test folds together\n",
    "    1. pick lowest error"
   ]
  },
  {
   "cell_type": "markdown",
   "metadata": {},
   "source": [
    "### Othe input spaces\n",
    "1. scalar input, continuous x\n",
    "1. vector input, continuous X\n",
    "    1. include more input features\n",
    "    1. size distance from zoo\n",
    "1. discrete"
   ]
  },
  {
   "cell_type": "markdown",
   "metadata": {},
   "source": [
    "### Summary\n",
    "1. historial facts\n",
    "1. model selection and under/over fitting\n",
    "1. cross validation\n",
    "1. linear polynomial regression\n",
    "1. best constant in terms of squared error: mean\n",
    "1. reprensentation for regression"
   ]
  },
  {
   "cell_type": "code",
   "execution_count": null,
   "metadata": {},
   "outputs": [],
   "source": []
  }
 ],
 "metadata": {
  "kernelspec": {
   "display_name": "Python 3",
   "language": "python",
   "name": "python3"
  },
  "language_info": {
   "codemirror_mode": {
    "name": "ipython",
    "version": 3
   },
   "file_extension": ".py",
   "mimetype": "text/x-python",
   "name": "python",
   "nbconvert_exporter": "python",
   "pygments_lexer": "ipython3",
   "version": "3.8.3"
  },
  "latex_envs": {
   "LaTeX_envs_menu_present": true,
   "autoclose": false,
   "autocomplete": true,
   "bibliofile": "biblio.bib",
   "cite_by": "apalike",
   "current_citInitial": 1,
   "eqLabelWithNumbers": true,
   "eqNumInitial": 1,
   "hotkeys": {
    "equation": "Ctrl-E",
    "itemize": "Ctrl-I"
   },
   "labels_anchors": false,
   "latex_user_defs": false,
   "report_style_numbering": false,
   "user_envs_cfg": false
  }
 },
 "nbformat": 4,
 "nbformat_minor": 4
}
